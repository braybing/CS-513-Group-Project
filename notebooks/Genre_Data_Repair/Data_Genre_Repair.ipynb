{
 "cells": [
  {
   "cell_type": "code",
   "execution_count": 80,
   "id": "9dcf1452",
   "metadata": {},
   "outputs": [
    {
     "name": "stdout",
     "output_type": "stream",
     "text": [
      "hi\n",
      "<spotipy.client.Spotify object at 0x00000267AFC2B8B0>\n"
     ]
    }
   ],
   "source": [
    "import json\n",
    "import spotipy\n",
    "from spotipy.oauth2 import SpotifyClientCredentials\n",
    "import time\n",
    "import pandas as pd\n",
    "from time import sleep\n",
    "from tqdm import tqdm\n",
    "\n",
    "\n",
    "creds = None\n",
    "with open('../../secret.json') as creds_file:\n",
    "    creds = json.load(creds_file)\n",
    "\n",
    "\n",
    "# Set up the Spotify client\n",
    "client_credentials_manager = SpotifyClientCredentials(client_id=creds['client_id'], client_secret=creds['client_secret'])\n",
    "sp = spotipy.Spotify(client_credentials_manager=client_credentials_manager, requests_timeout=10, retries=10)\n",
    "\n",
    "print('hi')\n",
    "print(sp)\n"
   ]
  },
  {
   "cell_type": "code",
   "execution_count": 81,
   "id": "b53f2ce8",
   "metadata": {},
   "outputs": [],
   "source": [
    "def get_album_genre(album_name, artist_name):\n",
    "  \n",
    "    q = \"artist:{} album:{}\".format(artist_name, album_name)\n",
    "    \n",
    "    results = sp.search(q, limit=1, offset=0, type='album')\n",
    "\n",
    "    if len(results['albums']['items']) > 0:\n",
    "        artist_id = results['albums']['items'][0]['artists'][0]['id']\n",
    "        album_id = results['albums']['items'][0]['id']\n",
    "\n",
    "        # genre only availble through artist, not album through apotify api\n",
    "        artist_info = sp.artist(artist_id)\n",
    "        print(artist_info)\n",
    "        genres = artist_info['genres']\n",
    "        print(genres)\n",
    "        if len(genres) > 1:\n",
    "            # just taking the first one, can change if\n",
    "            return genres[0]\n",
    "        else:\n",
    "            return None\n",
    "        \n",
    "    else:\n",
    "        return None"
   ]
  },
  {
   "cell_type": "code",
   "execution_count": 82,
   "id": "2ec99aea",
   "metadata": {},
   "outputs": [
    {
     "name": "stdout",
     "output_type": "stream",
     "text": [
      "alternative metal\n"
     ]
    }
   ],
   "source": [
    "artist_name = \"Linkin Park\"\n",
    "song_name = \"Meteora\"\n",
    "try:\n",
    "    res = get_album_genre(song_name, artist_name)\n",
    "    print(res)\n",
    "except Exception as e:\n",
    "    print(str(e))"
   ]
  },
  {
   "cell_type": "code",
   "execution_count": 83,
   "id": "89df258a",
   "metadata": {},
   "outputs": [
    {
     "name": "stdout",
     "output_type": "stream",
     "text": [
      "                            artist   \n",
      "2                        No Return  \\\n",
      "4                          Emanuel   \n",
      "14                           Keedy   \n",
      "25                 Jazz Signatures   \n",
      "26             Bernadã¨te Bidã ude   \n",
      "33            Sportfreunde Stiller   \n",
      "34         Rennie Pilgrim Presents   \n",
      "38                            Deux   \n",
      "40                         Various   \n",
      "41                 Matsuka Phonics   \n",
      "43                        Robotika   \n",
      "48                  Rolling Stones   \n",
      "49    Ã¤ã®ã«ã¥ã°ã¤ Ã¹ã¬ Ã¤ã¢ã¸ã¥ã¡   \n",
      "61           Â¿â©ã‡ã _â½âºã„ã‰ã„â¡   \n",
      "62                    Diversetion)   \n",
      "9332                    Pink Floyd   \n",
      "\n",
      "                                                  title      id  \n",
      "2                                       Self Mutilation  100002  \n",
      "4                                            Felicidade  100004  \n",
      "14                                     Chase The Clouds  100015  \n",
      "25                                      Jazz Signatures  100028  \n",
      "26                                        Pomme D'amour  100029  \n",
      "33                                       Die Gute Seite  100037  \n",
      "34                                    Nu Skool Breakz 2  100038  \n",
      "38                                              Forever  100042  \n",
      "40                                      Custom Music Cd  100044  \n",
      "41                                Let's Study Phonics 2  100045  \n",
      "43                                                Dance  100047  \n",
      "48                        Giant Stadium 17.08.1994 Cd 2  100052  \n",
      "49                                        Ã¤ã£ã¢ Ã°ã§ã¹  100054  \n",
      "61                                                  8th  100067  \n",
      "62    Zeitgeist: The Psychedelic Shack (future Funk ...  100068  \n",
      "9332                                    The Wall Disc 1    1818  \n"
     ]
    }
   ],
   "source": [
    "\n",
    "cddb_df = pd.read_csv('../../cleaning_stages/4_year_repair/cddb_3.tsv', sep='\\t')\n",
    "tracks_df = pd.read_csv('../../cleaning_stages/4_year_repair/cddb_tracks.tsv', sep='\\t')\n",
    "\n",
    "\n",
    "cddb_df_trim = cddb_df[cddb_df['genre'] == 'Data']\n",
    "cddb_df_trim = cddb_df_trim[['artist', 'title', 'id']]\n",
    "print(cddb_df_trim)"
   ]
  },
  {
   "cell_type": "code",
   "execution_count": 84,
   "id": "17ee673e",
   "metadata": {},
   "outputs": [
    {
     "name": "stdout",
     "output_type": "stream",
     "text": [
      "num null years: $16\n"
     ]
    }
   ],
   "source": [
    "# lists are much faster than dataframes, converting\n",
    "cddb_list = cddb_df_trim.values.tolist()\n",
    "tracks_list = tracks_df.values.tolist()\n",
    "\n",
    "print(f'num null years: ${len(cddb_list)}')"
   ]
  },
  {
   "cell_type": "code",
   "execution_count": 91,
   "id": "abbfb9e9",
   "metadata": {},
   "outputs": [],
   "source": [
    "def start_repair(cd_list):\n",
    "    \n",
    "    total_rows = len(cd_list)\n",
    "    for cddb_row in tqdm(cd_list, total=total_rows, desc='Processing rows', ncols=100):\n",
    "    #for cddb_row in cd_list:\n",
    "  \n",
    "        artist_name = cddb_row[0]\n",
    "        album_name = cddb_row[1]\n",
    "\n",
    "        fix = get_album_genre(album_name, artist_name)\n",
    "        if fix:\n",
    "            # update cddb_df directly\n",
    "            idx_list = cddb_df.index[cddb_df['id'] == cddb_row[2]].tolist()\n",
    "            idx = idx_list[0]\n",
    "            cddb_df.at[idx,'category'] = fix\n",
    "            cddb_df.at[idx,'genre'] = fix\n",
    "            print(\"fixed - :\" + str(cddb_row) + \"idx: \" + str(idx))\n",
    "    "
   ]
  },
  {
   "cell_type": "code",
   "execution_count": 92,
   "id": "09b72151",
   "metadata": {},
   "outputs": [
    {
     "name": "stderr",
     "output_type": "stream",
     "text": [
      "Processing rows:  38%|█████████████████▋                             | 6/16 [00:00<00:01,  8.41it/s]"
     ]
    },
    {
     "name": "stdout",
     "output_type": "stream",
     "text": [
      "fixed - :['Sportfreunde Stiller', 'Die Gute Seite', 100037]idx: 33\n"
     ]
    },
    {
     "name": "stderr",
     "output_type": "stream",
     "text": [
      "Processing rows: 100%|██████████████████████████████████████████████| 16/16 [00:01<00:00,  8.58it/s]\n"
     ]
    }
   ],
   "source": [
    "start_repair(cddb_list)"
   ]
  },
  {
   "cell_type": "code",
   "execution_count": 93,
   "id": "e50f4cce",
   "metadata": {},
   "outputs": [],
   "source": [
    "#save to output\n",
    "cddb_df.to_csv('../../cleaning_stages/5_genre_repair/cddb_4.tsv', sep=\"\\t\", index=False)\n",
    "tracks_df.to_csv('../../cleaning_stages/5_genre_repair/cddb_tracks.tsv', sep=\"\\t\", index=False)"
   ]
  },
  {
   "cell_type": "code",
   "execution_count": null,
   "id": "0b5481b9",
   "metadata": {},
   "outputs": [],
   "source": []
  }
 ],
 "metadata": {
  "kernelspec": {
   "display_name": "Python 3 (ipykernel)",
   "language": "python",
   "name": "python3"
  },
  "language_info": {
   "codemirror_mode": {
    "name": "ipython",
    "version": 3
   },
   "file_extension": ".py",
   "mimetype": "text/x-python",
   "name": "python",
   "nbconvert_exporter": "python",
   "pygments_lexer": "ipython3",
   "version": "3.9.16"
  }
 },
 "nbformat": 4,
 "nbformat_minor": 5
}
