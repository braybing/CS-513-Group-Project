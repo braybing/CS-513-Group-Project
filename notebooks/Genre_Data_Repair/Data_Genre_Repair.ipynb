{
 "cells": [
  {
   "cell_type": "code",
   "execution_count": 2,
   "id": "9dcf1452",
   "metadata": {},
   "outputs": [
    {
     "name": "stdout",
     "output_type": "stream",
     "text": [
      "hi\n",
      "<spotipy.client.Spotify object at 0x00000163E5634610>\n"
     ]
    }
   ],
   "source": [
    "import json\n",
    "import spotipy\n",
    "from spotipy.oauth2 import SpotifyClientCredentials\n",
    "import time\n",
    "import pandas as pd\n",
    "from time import sleep\n",
    "from tqdm import tqdm\n",
    "\n",
    "\n",
    "creds = None\n",
    "with open('../../secret.json') as creds_file:\n",
    "    creds = json.load(creds_file)\n",
    "\n",
    "\n",
    "# Set up the Spotify client\n",
    "client_credentials_manager = SpotifyClientCredentials(client_id=creds['client_id'], client_secret=creds['client_secret'])\n",
    "sp = spotipy.Spotify(client_credentials_manager=client_credentials_manager)\n",
    "\n",
    "print('hi')\n",
    "print(sp)\n"
   ]
  },
  {
   "cell_type": "code",
   "execution_count": 7,
   "id": "b53f2ce8",
   "metadata": {},
   "outputs": [],
   "source": [
    "def get_album_genre(album_name, artist_name):\n",
    "    # Search for the song\n",
    "    # trying this search for faster queries hopefully\n",
    "    # search(q, limit=10, offset=0, type='track', market=None)\n",
    "    # let q = String.init(format:\"artist:%@ track:%@\",artistName,trackName)\n",
    "    # https://stackoverflow.com/questions/42766000/spotipy-how-do-i-search-by-both-artist-and-song\n",
    "    q = \"artist:{} album:{}\".format(artist_name, album_name)\n",
    "    \n",
    "    result = sp.search(q, limit=1, offset=0, type='album')\n",
    "        \n",
    "    return result"
   ]
  },
  {
   "cell_type": "code",
   "execution_count": 5,
   "id": "89df258a",
   "metadata": {},
   "outputs": [
    {
     "name": "stdout",
     "output_type": "stream",
     "text": [
      "                            artist   \n",
      "2                        No Return  \\\n",
      "4                          Emanuel   \n",
      "14                           Keedy   \n",
      "25                 Jazz Signatures   \n",
      "26             Bernadã¨te Bidã ude   \n",
      "33            Sportfreunde Stiller   \n",
      "34         Rennie Pilgrim Presents   \n",
      "38                            Deux   \n",
      "40                         Various   \n",
      "41                 Matsuka Phonics   \n",
      "43                        Robotika   \n",
      "48                  Rolling Stones   \n",
      "49    Ã¤ã®ã«ã¥ã°ã¤ Ã¹ã¬ Ã¤ã¢ã¸ã¥ã¡   \n",
      "61           Â¿â©ã‡ã _â½âºã„ã‰ã„â¡   \n",
      "62                    Diversetion)   \n",
      "9332                    Pink Floyd   \n",
      "\n",
      "                                                  title      id  \n",
      "2                                       Self Mutilation  100002  \n",
      "4                                            Felicidade  100004  \n",
      "14                                     Chase The Clouds  100015  \n",
      "25                                      Jazz Signatures  100028  \n",
      "26                                        Pomme D'amour  100029  \n",
      "33                                       Die Gute Seite  100037  \n",
      "34                                    Nu Skool Breakz 2  100038  \n",
      "38                                              Forever  100042  \n",
      "40                                      Custom Music Cd  100044  \n",
      "41                                Let's Study Phonics 2  100045  \n",
      "43                                                Dance  100047  \n",
      "48                        Giant Stadium 17.08.1994 Cd 2  100052  \n",
      "49                                        Ã¤ã£ã¢ Ã°ã§ã¹  100054  \n",
      "61                                                  8th  100067  \n",
      "62    Zeitgeist: The Psychedelic Shack (future Funk ...  100068  \n",
      "9332                                    The Wall Disc 1    1818  \n"
     ]
    }
   ],
   "source": [
    "\n",
    "cddb_df = pd.read_csv('../../cleaning_stages/4_year_repair/cddb_3.tsv', sep='\\t')\n",
    "tracks_df = pd.read_csv('../../cleaning_stages/4_year_repair/cddb_tracks.tsv', sep='\\t')\n",
    "\n",
    "\n",
    "cddb_df_trim = cddb_df[cddb_df['genre'] == 'Data']\n",
    "cddb_df_trim = cddb_df_trim[['artist', 'title', 'id']]\n",
    "print(cddb_df_trim)"
   ]
  },
  {
   "cell_type": "code",
   "execution_count": 6,
   "id": "17ee673e",
   "metadata": {},
   "outputs": [
    {
     "name": "stdout",
     "output_type": "stream",
     "text": [
      "num null years: $16\n"
     ]
    }
   ],
   "source": [
    "# lists are much faster than dataframes, converting\n",
    "cddb_list = cddb_df_trim.values.tolist()\n",
    "tracks_list = tracks_df.values.tolist()\n",
    "\n",
    "print(f'num null years: ${len(cddb_list)}')"
   ]
  },
  {
   "cell_type": "code",
   "execution_count": 8,
   "id": "abbfb9e9",
   "metadata": {},
   "outputs": [],
   "source": [
    "def start_repair(cd_list, tracks_list):\n",
    "    num_repairs = 0\n",
    "    num_not_repairable = 0\n",
    "    \n",
    "    total_rows = len(cd_list)\n",
    "    for cddb_row in tqdm(cd_list, total=total_rows, desc='Processing rows', ncols=100):\n",
    "    #for cddb_row in cd_list:\n",
    "  \n",
    "        artist_name = cddb_row[0]\n",
    "        album_name = cddb_row[1]\n",
    "\n",
    "        fix = get_album_genre(album_name, artist_name)\n",
    "        if fix:\n",
    "            num_repairs += 1\n",
    "            # update cddb_df directly\n",
    "            print('------')\n",
    "            print(fix)\n",
    "            break # we found one we are clean\n",
    "    "
   ]
  },
  {
   "cell_type": "code",
   "execution_count": 9,
   "id": "09b72151",
   "metadata": {},
   "outputs": [
    {
     "name": "stderr",
     "output_type": "stream",
     "text": [
      "Processing rows:   0%|                                                       | 0/16 [00:00<?, ?it/s]"
     ]
    }
   ],
   "source": [
    "start_repair(cddb_list, tracks_list)"
   ]
  },
  {
   "cell_type": "code",
   "execution_count": null,
   "id": "e50f4cce",
   "metadata": {},
   "outputs": [],
   "source": []
  }
 ],
 "metadata": {
  "kernelspec": {
   "display_name": "Python 3 (ipykernel)",
   "language": "python",
   "name": "python3"
  },
  "language_info": {
   "codemirror_mode": {
    "name": "ipython",
    "version": 3
   },
   "file_extension": ".py",
   "mimetype": "text/x-python",
   "name": "python",
   "nbconvert_exporter": "python",
   "pygments_lexer": "ipython3",
   "version": "3.9.16"
  }
 },
 "nbformat": 4,
 "nbformat_minor": 5
}
